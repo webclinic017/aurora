{
 "metadata": {
  "language_info": {
   "codemirror_mode": {
    "name": "ipython",
    "version": 3
   },
   "file_extension": ".py",
   "mimetype": "text/x-python",
   "name": "python",
   "nbconvert_exporter": "python",
   "pygments_lexer": "ipython3",
   "version": "3.7.7-final"
  },
  "orig_nbformat": 2,
  "kernelspec": {
   "name": "python37364bitvenvvenv6f72a63a5ba546b0b64d00cd100e0c30",
   "display_name": "Python 3.7.3 64-bit ('venv': venv)"
  }
 },
 "nbformat": 4,
 "nbformat_minor": 2,
 "cells": [
  {
   "cell_type": "code",
   "execution_count": 38,
   "metadata": {},
   "outputs": [],
   "source": [
    "import pandas as pd\n",
    "import json"
   ]
  },
  {
   "cell_type": "code",
   "execution_count": 24,
   "metadata": {},
   "outputs": [],
   "source": [
    "fund_codes = ['MMM','ABT','ABBV']\n",
    "startDate = '2020-01-31'\n",
    "endDate = '2020-04-30'"
   ]
  },
  {
   "cell_type": "code",
   "execution_count": 25,
   "metadata": {},
   "outputs": [],
   "source": [
    "   fund_codes.insert(0,'date')\n",
    "   all_historical_prices = pd.read_csv('output.csv')"
   ]
  },
  {
   "cell_type": "code",
   "execution_count": 48,
   "metadata": {},
   "outputs": [],
   "source": [
    "subset_data = all_historical_prices[fund_codes][all_historical_prices['date']>=startDate ][all_historical_prices['date']<=endDate].sort_values('date').reset_index(drop = True)"
   ]
  },
  {
   "cell_type": "code",
   "execution_count": 54,
   "metadata": {},
   "outputs": [
    {
     "output_type": "execute_result",
     "data": {
      "text/plain": [
       "[{'date': '2020-01-31', 'MMM': 158.66, 'ABT': 87.14, 'ABBV': 82.3},\n",
       " {'date': '2020-02-03', 'MMM': 156.59, 'ABT': 87.06, 'ABBV': 84.36},\n",
       " {'date': '2020-02-04', 'MMM': 157.24, 'ABT': 88.23, 'ABBV': 86.63},\n",
       " {'date': '2020-02-05', 'MMM': 162.33, 'ABT': 89.56, 'ABBV': 87.18},\n",
       " {'date': '2020-02-06', 'MMM': 162.89, 'ABT': 89.47, 'ABBV': 92.29},\n",
       " {'date': '2020-02-07', 'MMM': 160.08, 'ABT': 87.87, 'ABBV': 94.75},\n",
       " {'date': '2020-02-10', 'MMM': 160.15, 'ABT': 88.3, 'ABBV': 96.0},\n",
       " {'date': '2020-02-11', 'MMM': 162.45, 'ABT': 89.17, 'ABBV': 97.79},\n",
       " {'date': '2020-02-12', 'MMM': 163.8, 'ABT': 88.79, 'ABBV': 95.35},\n",
       " {'date': '2020-02-13', 'MMM': 159.76, 'ABT': 88.68, 'ABBV': 94.05},\n",
       " {'date': '2020-02-14', 'MMM': 161.01, 'ABT': 89.66, 'ABBV': 93.61},\n",
       " {'date': '2020-02-18', 'MMM': 158.88, 'ABT': 88.88, 'ABBV': 94.14},\n",
       " {'date': '2020-02-19', 'MMM': 159.34, 'ABT': 89.36, 'ABBV': 94.23},\n",
       " {'date': '2020-02-20', 'MMM': 158.56, 'ABT': 88.46, 'ABBV': 94.96},\n",
       " {'date': '2020-02-21', 'MMM': 156.93, 'ABT': 87.45, 'ABBV': 93.14},\n",
       " {'date': '2020-02-24', 'MMM': 152.55, 'ABT': 84.63, 'ABBV': 89.18},\n",
       " {'date': '2020-02-25', 'MMM': 146.85, 'ABT': 81.13, 'ABBV': 88.41},\n",
       " {'date': '2020-02-26', 'MMM': 148.96, 'ABT': 81.36, 'ABBV': 85.42},\n",
       " {'date': '2020-02-27', 'MMM': 150.16, 'ABT': 79.19, 'ABBV': 85.71},\n",
       " {'date': '2020-02-28', 'MMM': 149.24, 'ABT': 77.03, 'ABBV': 88.69},\n",
       " {'date': '2020-03-02', 'MMM': 153.02, 'ABT': 81.61, 'ABBV': 87.57},\n",
       " {'date': '2020-03-03', 'MMM': 145.24, 'ABT': 77.99, 'ABBV': 91.75},\n",
       " {'date': '2020-03-04', 'MMM': 153.98, 'ABT': 82.09, 'ABBV': 90.61},\n",
       " {'date': '2020-03-05', 'MMM': 151.41, 'ABT': 80.52, 'ABBV': 88.82},\n",
       " {'date': '2020-03-06', 'MMM': 153.65, 'ABT': 81.74, 'ABBV': 85.27},\n",
       " {'date': '2020-03-09', 'MMM': 144.06, 'ABT': 77.02, 'ABBV': 87.53},\n",
       " {'date': '2020-03-10', 'MMM': 153.3, 'ABT': 80.88, 'ABBV': 84.85},\n",
       " {'date': '2020-03-11', 'MMM': 147.24, 'ABT': 78.09, 'ABBV': 78.61},\n",
       " {'date': '2020-03-12', 'MMM': 133.58, 'ABT': 74.74, 'ABBV': 85.37},\n",
       " {'date': '2020-03-13', 'MMM': 141.68, 'ABT': 81.65, 'ABBV': 74.27},\n",
       " {'date': '2020-03-16', 'MMM': 130.91, 'ABT': 73.66, 'ABBV': 73.02},\n",
       " {'date': '2020-03-17', 'MMM': 134.44, 'ABT': 79.49, 'ABBV': 71.03},\n",
       " {'date': '2020-03-18', 'MMM': 137.02, 'ABT': 79.26, 'ABBV': 71.06},\n",
       " {'date': '2020-03-19', 'MMM': 137.51, 'ABT': 74.5, 'ABBV': 68.82},\n",
       " {'date': '2020-03-20', 'MMM': 124.89, 'ABT': 68.0, 'ABBV': 64.5},\n",
       " {'date': '2020-03-23', 'MMM': 117.87, 'ABT': 62.82, 'ABBV': 67.49},\n",
       " {'date': '2020-03-24', 'MMM': 132.72, 'ABT': 69.69, 'ABBV': 67.91},\n",
       " {'date': '2020-03-25', 'MMM': 131.54, 'ABT': 70.75, 'ABBV': 73.83},\n",
       " {'date': '2020-03-26', 'MMM': 136.18, 'ABT': 75.81, 'ABBV': 72.67},\n",
       " {'date': '2020-03-27', 'MMM': 133.24, 'ABT': 74.56, 'ABBV': 75.24},\n",
       " {'date': '2020-03-30', 'MMM': 137.74, 'ABT': 79.34, 'ABBV': 76.19},\n",
       " {'date': '2020-03-31', 'MMM': 136.51, 'ABT': 78.91, 'ABBV': 73.42},\n",
       " {'date': '2020-04-01', 'MMM': 133.14, 'ABT': 76.57, 'ABBV': 75.13},\n",
       " {'date': '2020-04-02', 'MMM': 137.91, 'ABT': 79.44, 'ABBV': 73.37},\n",
       " {'date': '2020-04-03', 'MMM': 133.79, 'ABT': 79.45, 'ABBV': 75.73},\n",
       " {'date': '2020-04-06', 'MMM': 140.7, 'ABT': 82.73, 'ABBV': 75.39},\n",
       " {'date': '2020-04-07', 'MMM': 144.6, 'ABT': 81.93, 'ABBV': 78.56},\n",
       " {'date': '2020-04-08', 'MMM': 148.99, 'ABT': 84.95, 'ABBV': 79.75},\n",
       " {'date': '2020-04-09', 'MMM': 147.78, 'ABT': 86.04, 'ABBV': 80.3},\n",
       " {'date': '2020-04-13', 'MMM': 146.4, 'ABT': 85.85, 'ABBV': 82.13},\n",
       " {'date': '2020-04-14', 'MMM': 150.14, 'ABT': 89.14, 'ABBV': 81.82},\n",
       " {'date': '2020-04-15', 'MMM': 145.16, 'ABT': 90.94, 'ABBV': 81.86},\n",
       " {'date': '2020-04-16', 'MMM': 144.9, 'ABT': 96.0, 'ABBV': 83.45},\n",
       " {'date': '2020-04-17', 'MMM': 146.46, 'ABT': 96.01, 'ABBV': 83.99},\n",
       " {'date': '2020-04-20', 'MMM': 143.67, 'ABT': 98.0, 'ABBV': 80.36},\n",
       " {'date': '2020-04-21', 'MMM': 141.63, 'ABT': 94.05, 'ABBV': 81.47},\n",
       " {'date': '2020-04-22', 'MMM': 143.61, 'ABT': 95.48, 'ABBV': 82.04},\n",
       " {'date': '2020-04-23', 'MMM': 144.33, 'ABT': 93.94, 'ABBV': 83.59},\n",
       " {'date': '2020-04-24', 'MMM': 147.0, 'ABT': 94.06, 'ABBV': 84.69},\n",
       " {'date': '2020-04-27', 'MMM': 153.65, 'ABT': 94.95, 'ABBV': 82.76},\n",
       " {'date': '2020-04-28', 'MMM': 157.61, 'ABT': 91.46, 'ABBV': 83.76},\n",
       " {'date': '2020-04-29', 'MMM': 156.26, 'ABT': 92.28, 'ABBV': 82.2},\n",
       " {'date': '2020-04-30', 'MMM': 151.92, 'ABT': 92.09, 'ABBV': 82.84}]"
      ]
     },
     "metadata": {},
     "execution_count": 54
    }
   ],
   "source": [
    "json.loads(subset_data.to_json(orient = 'records'))"
   ]
  },
  {
   "cell_type": "code",
   "execution_count": null,
   "metadata": {},
   "outputs": [],
   "source": []
  }
 ]
}