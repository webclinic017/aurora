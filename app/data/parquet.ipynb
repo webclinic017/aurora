{
 "metadata": {
  "language_info": {
   "codemirror_mode": {
    "name": "ipython",
    "version": 3
   },
   "file_extension": ".py",
   "mimetype": "text/x-python",
   "name": "python",
   "nbconvert_exporter": "python",
   "pygments_lexer": "ipython3",
   "version": "3.7.7-final"
  },
  "orig_nbformat": 2,
  "kernelspec": {
   "name": "python37764bitvenvvenve6ed739dd3d845b2a8e33e9c24709756",
   "display_name": "Python 3.7.7 64-bit ('venv': venv)"
  }
 },
 "nbformat": 4,
 "nbformat_minor": 2,
 "cells": [
  {
   "cell_type": "code",
   "execution_count": 2,
   "metadata": {},
   "outputs": [],
   "source": [
    "import pyarrow as pa \n",
    "import pandas as pd\n",
    "import pyarrow.parquet as pq"
   ]
  },
  {
   "cell_type": "code",
   "execution_count": 5,
   "metadata": {},
   "outputs": [],
   "source": [
    "dailyPrice = pd.read_csv('output.csv', index_col = 0)"
   ]
  },
  {
   "cell_type": "code",
   "execution_count": 6,
   "metadata": {},
   "outputs": [
    {
     "output_type": "execute_result",
     "data": {
      "text/plain": [
       "         date     MMM    ABT   ABBV    ABMD     ACN   ATVI    ADBE    AMD  \\\n",
       "0  2020-05-26  152.08  89.48  89.31  209.08  196.40  70.00  376.63  53.19   \n",
       "1  2020-05-22  146.44  91.47  90.71  206.16  193.71  73.08  385.26  55.17   \n",
       "2  2020-05-21  145.81  90.39  92.10  196.32  193.50  72.47  382.17  54.65   \n",
       "3  2020-05-20  149.68  90.09  93.02  196.36  195.18  73.78  383.63  56.39   \n",
       "4  2020-05-19  148.38  88.22  91.19  190.79  190.09  73.03  372.20  55.47   \n",
       "\n",
       "      AAP  ...    HFC   HOLX      HD     HON    HRL    HST    HPQ     HUM  \\\n",
       "0  135.58  ...  32.30  51.10  242.48  144.94  45.73  12.17  17.06  397.09   \n",
       "1  133.48  ...  30.46  52.33  241.88  139.18  46.93  11.23  17.00  394.43   \n",
       "2  134.79  ...  30.99  52.56  240.88  137.69  46.01  11.43  17.18  395.27   \n",
       "3  135.72  ...  31.75  53.98  238.19  136.03  47.99  11.54  17.30  391.19   \n",
       "4  135.82  ...  29.46  52.89  238.10  131.95  47.39  11.55  16.73  394.47   \n",
       "\n",
       "    HBAN     HII  \n",
       "0  8.990  193.42  \n",
       "1  8.095  182.77  \n",
       "2  8.170  181.50  \n",
       "3  8.210  175.11  \n",
       "4  7.880  173.50  \n",
       "\n",
       "[5 rows x 245 columns]"
      ],
      "text/html": "<div>\n<style scoped>\n    .dataframe tbody tr th:only-of-type {\n        vertical-align: middle;\n    }\n\n    .dataframe tbody tr th {\n        vertical-align: top;\n    }\n\n    .dataframe thead th {\n        text-align: right;\n    }\n</style>\n<table border=\"1\" class=\"dataframe\">\n  <thead>\n    <tr style=\"text-align: right;\">\n      <th></th>\n      <th>date</th>\n      <th>MMM</th>\n      <th>ABT</th>\n      <th>ABBV</th>\n      <th>ABMD</th>\n      <th>ACN</th>\n      <th>ATVI</th>\n      <th>ADBE</th>\n      <th>AMD</th>\n      <th>AAP</th>\n      <th>...</th>\n      <th>HFC</th>\n      <th>HOLX</th>\n      <th>HD</th>\n      <th>HON</th>\n      <th>HRL</th>\n      <th>HST</th>\n      <th>HPQ</th>\n      <th>HUM</th>\n      <th>HBAN</th>\n      <th>HII</th>\n    </tr>\n  </thead>\n  <tbody>\n    <tr>\n      <th>0</th>\n      <td>2020-05-26</td>\n      <td>152.08</td>\n      <td>89.48</td>\n      <td>89.31</td>\n      <td>209.08</td>\n      <td>196.40</td>\n      <td>70.00</td>\n      <td>376.63</td>\n      <td>53.19</td>\n      <td>135.58</td>\n      <td>...</td>\n      <td>32.30</td>\n      <td>51.10</td>\n      <td>242.48</td>\n      <td>144.94</td>\n      <td>45.73</td>\n      <td>12.17</td>\n      <td>17.06</td>\n      <td>397.09</td>\n      <td>8.990</td>\n      <td>193.42</td>\n    </tr>\n    <tr>\n      <th>1</th>\n      <td>2020-05-22</td>\n      <td>146.44</td>\n      <td>91.47</td>\n      <td>90.71</td>\n      <td>206.16</td>\n      <td>193.71</td>\n      <td>73.08</td>\n      <td>385.26</td>\n      <td>55.17</td>\n      <td>133.48</td>\n      <td>...</td>\n      <td>30.46</td>\n      <td>52.33</td>\n      <td>241.88</td>\n      <td>139.18</td>\n      <td>46.93</td>\n      <td>11.23</td>\n      <td>17.00</td>\n      <td>394.43</td>\n      <td>8.095</td>\n      <td>182.77</td>\n    </tr>\n    <tr>\n      <th>2</th>\n      <td>2020-05-21</td>\n      <td>145.81</td>\n      <td>90.39</td>\n      <td>92.10</td>\n      <td>196.32</td>\n      <td>193.50</td>\n      <td>72.47</td>\n      <td>382.17</td>\n      <td>54.65</td>\n      <td>134.79</td>\n      <td>...</td>\n      <td>30.99</td>\n      <td>52.56</td>\n      <td>240.88</td>\n      <td>137.69</td>\n      <td>46.01</td>\n      <td>11.43</td>\n      <td>17.18</td>\n      <td>395.27</td>\n      <td>8.170</td>\n      <td>181.50</td>\n    </tr>\n    <tr>\n      <th>3</th>\n      <td>2020-05-20</td>\n      <td>149.68</td>\n      <td>90.09</td>\n      <td>93.02</td>\n      <td>196.36</td>\n      <td>195.18</td>\n      <td>73.78</td>\n      <td>383.63</td>\n      <td>56.39</td>\n      <td>135.72</td>\n      <td>...</td>\n      <td>31.75</td>\n      <td>53.98</td>\n      <td>238.19</td>\n      <td>136.03</td>\n      <td>47.99</td>\n      <td>11.54</td>\n      <td>17.30</td>\n      <td>391.19</td>\n      <td>8.210</td>\n      <td>175.11</td>\n    </tr>\n    <tr>\n      <th>4</th>\n      <td>2020-05-19</td>\n      <td>148.38</td>\n      <td>88.22</td>\n      <td>91.19</td>\n      <td>190.79</td>\n      <td>190.09</td>\n      <td>73.03</td>\n      <td>372.20</td>\n      <td>55.47</td>\n      <td>135.82</td>\n      <td>...</td>\n      <td>29.46</td>\n      <td>52.89</td>\n      <td>238.10</td>\n      <td>131.95</td>\n      <td>47.39</td>\n      <td>11.55</td>\n      <td>16.73</td>\n      <td>394.47</td>\n      <td>7.880</td>\n      <td>173.50</td>\n    </tr>\n  </tbody>\n</table>\n<p>5 rows × 245 columns</p>\n</div>"
     },
     "metadata": {},
     "execution_count": 6
    }
   ],
   "source": [
    "dailyPrice.head()"
   ]
  },
  {
   "cell_type": "code",
   "execution_count": 9,
   "metadata": {},
   "outputs": [],
   "source": [
    "dailyPriceTable = pa.Table.from_pandas(dailyPrice)"
   ]
  },
  {
   "cell_type": "code",
   "execution_count": 13,
   "metadata": {},
   "outputs": [],
   "source": [
    "pq.write_table(dailyPriceTable, 'dailyPrice.parquet')"
   ]
  },
  {
   "cell_type": "code",
   "execution_count": 14,
   "metadata": {},
   "outputs": [],
   "source": [
    "table2 = pq.read_table('dailyPrice.parquet')"
   ]
  },
  {
   "cell_type": "code",
   "execution_count": 3,
   "metadata": {},
   "outputs": [],
   "source": [
    "fundCodes = pd.read_csv('spxCodes.csv', index_col = 0)"
   ]
  },
  {
   "cell_type": "code",
   "execution_count": 4,
   "metadata": {},
   "outputs": [],
   "source": [
    "fundCodesTable = pa.Table.from_pandas(fundCodes)"
   ]
  },
  {
   "cell_type": "code",
   "execution_count": 5,
   "metadata": {},
   "outputs": [],
   "source": [
    "pq.write_table(fundCodesTable, 'fundCodes.parquet')"
   ]
  },
  {
   "cell_type": "code",
   "execution_count": null,
   "metadata": {},
   "outputs": [],
   "source": []
  }
 ]
}