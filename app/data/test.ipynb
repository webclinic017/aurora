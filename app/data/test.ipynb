{
 "metadata": {
  "language_info": {
   "codemirror_mode": {
    "name": "ipython",
    "version": 3
   },
   "file_extension": ".py",
   "mimetype": "text/x-python",
   "name": "python",
   "nbconvert_exporter": "python",
   "pygments_lexer": "ipython3",
   "version": "3.7.7-final"
  },
  "orig_nbformat": 2,
  "kernelspec": {
   "name": "python37364bitvenvvenv6f72a63a5ba546b0b64d00cd100e0c30",
   "display_name": "Python 3.7.3 64-bit ('venv': venv)"
  }
 },
 "nbformat": 4,
 "nbformat_minor": 2,
 "cells": [
  {
   "cell_type": "code",
   "execution_count": 1,
   "metadata": {},
   "outputs": [],
   "source": [
    "import pandas as pd\n",
    "import json"
   ]
  },
  {
   "cell_type": "code",
   "execution_count": 2,
   "metadata": {},
   "outputs": [],
   "source": [
    "fund_codes = ['MMM','ABT','ABBV']\n",
    "startDate = '2020-01-31'\n",
    "endDate = '2020-04-30'"
   ]
  },
  {
   "cell_type": "code",
   "execution_count": 3,
   "metadata": {},
   "outputs": [],
   "source": [
    "   fund_codes.insert(0,'date')\n",
    "   all_historical_prices = pd.read_csv('output.csv')"
   ]
  },
  {
   "cell_type": "code",
   "execution_count": 4,
   "metadata": {},
   "outputs": [],
   "source": [
    "subset_data = all_historical_prices[fund_codes][all_historical_prices['date']>=startDate ][all_historical_prices['date']<=endDate].sort_values('date').reset_index(drop = True)"
   ]
  },
  {
   "cell_type": "code",
   "execution_count": 6,
   "metadata": {},
   "outputs": [
    {
     "output_type": "execute_result",
     "data": {
      "text/plain": [
       "          date     MMM    ABT   ABBV\n",
       "0   2020-01-31  158.66  87.14  82.30\n",
       "1   2020-02-03  156.59  87.06  84.36\n",
       "2   2020-02-04  157.24  88.23  86.63\n",
       "3   2020-02-05  162.33  89.56  87.18\n",
       "4   2020-02-06  162.89  89.47  92.29\n",
       "..         ...     ...    ...    ...\n",
       "58  2020-04-24  147.00  94.06  84.69\n",
       "59  2020-04-27  153.65  94.95  82.76\n",
       "60  2020-04-28  157.61  91.46  83.76\n",
       "61  2020-04-29  156.26  92.28  82.20\n",
       "62  2020-04-30  151.92  92.09  82.84\n",
       "\n",
       "[63 rows x 4 columns]"
      ],
      "text/html": "<div>\n<style scoped>\n    .dataframe tbody tr th:only-of-type {\n        vertical-align: middle;\n    }\n\n    .dataframe tbody tr th {\n        vertical-align: top;\n    }\n\n    .dataframe thead th {\n        text-align: right;\n    }\n</style>\n<table border=\"1\" class=\"dataframe\">\n  <thead>\n    <tr style=\"text-align: right;\">\n      <th></th>\n      <th>date</th>\n      <th>MMM</th>\n      <th>ABT</th>\n      <th>ABBV</th>\n    </tr>\n  </thead>\n  <tbody>\n    <tr>\n      <th>0</th>\n      <td>2020-01-31</td>\n      <td>158.66</td>\n      <td>87.14</td>\n      <td>82.30</td>\n    </tr>\n    <tr>\n      <th>1</th>\n      <td>2020-02-03</td>\n      <td>156.59</td>\n      <td>87.06</td>\n      <td>84.36</td>\n    </tr>\n    <tr>\n      <th>2</th>\n      <td>2020-02-04</td>\n      <td>157.24</td>\n      <td>88.23</td>\n      <td>86.63</td>\n    </tr>\n    <tr>\n      <th>3</th>\n      <td>2020-02-05</td>\n      <td>162.33</td>\n      <td>89.56</td>\n      <td>87.18</td>\n    </tr>\n    <tr>\n      <th>4</th>\n      <td>2020-02-06</td>\n      <td>162.89</td>\n      <td>89.47</td>\n      <td>92.29</td>\n    </tr>\n    <tr>\n      <th>...</th>\n      <td>...</td>\n      <td>...</td>\n      <td>...</td>\n      <td>...</td>\n    </tr>\n    <tr>\n      <th>58</th>\n      <td>2020-04-24</td>\n      <td>147.00</td>\n      <td>94.06</td>\n      <td>84.69</td>\n    </tr>\n    <tr>\n      <th>59</th>\n      <td>2020-04-27</td>\n      <td>153.65</td>\n      <td>94.95</td>\n      <td>82.76</td>\n    </tr>\n    <tr>\n      <th>60</th>\n      <td>2020-04-28</td>\n      <td>157.61</td>\n      <td>91.46</td>\n      <td>83.76</td>\n    </tr>\n    <tr>\n      <th>61</th>\n      <td>2020-04-29</td>\n      <td>156.26</td>\n      <td>92.28</td>\n      <td>82.20</td>\n    </tr>\n    <tr>\n      <th>62</th>\n      <td>2020-04-30</td>\n      <td>151.92</td>\n      <td>92.09</td>\n      <td>82.84</td>\n    </tr>\n  </tbody>\n</table>\n<p>63 rows × 4 columns</p>\n</div>"
     },
     "metadata": {},
     "execution_count": 6
    }
   ],
   "source": [
    "pd.DataFrame(json.loads(subset_data.to_json(orient = 'records')))"
   ]
  },
  {
   "cell_type": "code",
   "execution_count": null,
   "metadata": {},
   "outputs": [],
   "source": []
  }
 ]
}