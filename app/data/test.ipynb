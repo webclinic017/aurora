{
 "metadata": {
  "language_info": {
   "codemirror_mode": {
    "name": "ipython",
    "version": 3
   },
   "file_extension": ".py",
   "mimetype": "text/x-python",
   "name": "python",
   "nbconvert_exporter": "python",
   "pygments_lexer": "ipython3",
   "version": "3.7.7-final"
  },
  "orig_nbformat": 2,
  "kernelspec": {
   "name": "python37364bitvenvvenv6f72a63a5ba546b0b64d00cd100e0c30",
   "display_name": "Python 3.7.3 64-bit ('venv': venv)"
  }
 },
 "nbformat": 4,
 "nbformat_minor": 2,
 "cells": [
  {
   "cell_type": "code",
   "execution_count": null,
   "metadata": {},
   "outputs": [],
   "source": [
    "import pandas as pd\n",
    "import json\n",
    "import numpy as np\n",
    "from datetime import datetime\n",
    "from dateutil.relativedelta import relativedelta"
   ]
  },
  {
   "cell_type": "code",
   "execution_count": null,
   "metadata": {},
   "outputs": [],
   "source": [
    "fund_codes = ['MMM','ABT','ABBV']\n",
    "start_date = '2019-11-30'\n",
    "end_date = '2020-04-30'"
   ]
  },
  {
   "cell_type": "code",
   "execution_count": null,
   "metadata": {},
   "outputs": [],
   "source": [
    "def loadHistoricalIndex(fund_codes, start_date, end_date):\n",
    "    response_columns = fund_codes\n",
    "    response_columns = [\"date\"] + fund_codes\n",
    "    all_historical_prices = pd.read_csv(\"output.csv\")\n",
    "    subset_data = all_historical_prices[response_columns][\n",
    "        all_historical_prices[\"date\"] >= start_date\n",
    "    ][all_historical_prices[\"date\"] <= end_date]\n",
    "    subset_data = subset_data.sort_values(\"date\").reset_index(drop=True)\n",
    "    for i in fund_codes:\n",
    "        subset_data[f\"{i}index\"] = subset_data[i] / subset_data[i][0]\n",
    "        subset_data = subset_data.fillna(0)\n",
    "    subset_data = subset_data.fillna(0)\n",
    "    subset_data = subset_data.drop(fund_codes, axis=1)\n",
    "    subset_data.columns = response_columns\n",
    "    return json.loads(subset_data.to_json(orient=\"records\"))\n"
   ]
  },
  {
   "cell_type": "code",
   "execution_count": null,
   "metadata": {},
   "outputs": [],
   "source": [
    "historical_index = loadHistoricalIndex(fund_codes, start_date, end_date)"
   ]
  },
  {
   "cell_type": "code",
   "execution_count": null,
   "metadata": {},
   "outputs": [],
   "source": [
    "portfolio= [ {\"fund\": \"MMM\", \"amount\": 1000}, \n",
    "{\"fund\": \"ABT\", \"amount\": 1000},\n",
    "{\"fund\":\"ABBV\", \"amount\":1000}]\n",
    "strategy= {'rebalance': True, \"rebalanceFrequency\": \"m\"}"
   ]
  },
  {
   "cell_type": "code",
   "execution_count": null,
   "metadata": {},
   "outputs": [],
   "source": [
    "rebalanceFrequency = strategy['rebalanceFrequency'].lower()"
   ]
  },
  {
   "cell_type": "code",
   "execution_count": null,
   "metadata": {},
   "outputs": [],
   "source": [
    "num_funds = len(portfolio)"
   ]
  },
  {
   "cell_type": "code",
   "execution_count": null,
   "metadata": {},
   "outputs": [],
   "source": [
    "fund_index = pd.DataFrame(historical_index)\n",
    "fund_list = []\n",
    "fund_amount = []\n",
    "for i in portfolio:\n",
    "    fund_list.append(i[\"fund\"])\n",
    "    fund_amount.append(i[\"amount\"])\n",
    "fund_percentage = [i /sum(fund_amount) for i in fund_amount]"
   ]
  },
  {
   "cell_type": "code",
   "execution_count": null,
   "metadata": {},
   "outputs": [],
   "source": [
    "def backmodel (fund_amount, fund_codes, fund_index):\n",
    "    fund_diag = np.zeros((num_funds,num_funds))\n",
    "    np.fill_diagonal(fund_diag, fund_amount)\n",
    "    return fund_index[fund_codes].dot(fund_diag)"
   ]
  },
  {
   "cell_type": "code",
   "execution_count": null,
   "metadata": {},
   "outputs": [],
   "source": [
    "result_df = backmodel (fund_amount, fund_codes, fund_index)\n",
    "result_df.columns = fund_codes\n",
    "result_df['portfolio'] = result_df.sum(axis = 1)"
   ]
  },
  {
   "cell_type": "code",
   "execution_count": null,
   "metadata": {},
   "outputs": [],
   "source": [
    "fund_codes = ['MMM','ABT','ABBV']\n",
    "start_date = '2019-10-30'\n",
    "end_date = '2020-04-30'"
   ]
  },
  {
   "cell_type": "code",
   "execution_count": null,
   "metadata": {},
   "outputs": [],
   "source": [
    "frequency = {\"y\": 12, \"q\": 3, \"m\": 1}\n",
    "start_period = datetime.strptime(start_date, '%Y-%m-%d')\n",
    "end_date = datetime.strptime(end_date, '%Y-%m-%d')\n",
    "delta_months = relativedelta(end_date,start_period)"
   ]
  },
  {
   "cell_type": "code",
   "execution_count": null,
   "metadata": {},
   "outputs": [],
   "source": [
    "diff_months = delta_months.months\n",
    "if delta_months.days != 0:\n",
    "    diff_months = diff_months + 1"
   ]
  },
  {
   "cell_type": "code",
   "execution_count": null,
   "metadata": {},
   "outputs": [],
   "source": [
    "temp_amount = fund_amount\n",
    "subset_list= []"
   ]
  },
  {
   "cell_type": "code",
   "execution_count": null,
   "metadata": {},
   "outputs": [],
   "source": [
    "\n",
    "temp_amount = fund_amount\n",
    "subset_list= []\n",
    "for j in range(0, diff_months):\n",
    "    end_period = start_period + relativedelta(months=frequency[rebalanceFrequency])\n",
    "    start_period = start_period.strftime('%Y-%m-%d')\n",
    "    end_period = end_period.strftime('%Y-%m-%d')\n",
    "    subset_index = fund_index[fund_index['date'] >= start_period][fund_index['date'] <= end_period]\n",
    "    temp_dates = subset_index['date']\n",
    "    temp_df = backmodel(temp_amount, fund_codes, subset_index)\n",
    "    temp_total = temp_df.iloc[(temp_df.shape[0] - 1)].sum()\n",
    "    temp_amount = [temp_total * i for i in fund_percentage]\n",
    "    temp_df['date'] = temp_dates\n",
    "    subset_list.append(temp_df)\n",
    "    start_period = datetime.strptime(end_period, '%Y-%m-%d')"
   ]
  },
  {
   "cell_type": "code",
   "execution_count": null,
   "metadata": {},
   "outputs": [],
   "source": [
    "fund_index"
   ]
  },
  {
   "cell_type": "code",
   "execution_count": null,
   "metadata": {},
   "outputs": [],
   "source": [
    "pd.concat(subset_list)"
   ]
  },
  {
   "cell_type": "code",
   "execution_count": null,
   "metadata": {},
   "outputs": [],
   "source": [
    "fund_index[\"portfolio\"] = fund_index[fund_list].sum(axis=1)\n",
    "json.loads(fund_index[[\"date\", \"portfolio\"]].to_json(orient=\"records\"))\n"
   ]
  }
 ]
}