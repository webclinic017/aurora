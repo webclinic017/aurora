{
 "metadata": {
  "language_info": {
   "codemirror_mode": {
    "name": "ipython",
    "version": 3
   },
   "file_extension": ".py",
   "mimetype": "text/x-python",
   "name": "python",
   "nbconvert_exporter": "python",
   "pygments_lexer": "ipython3",
   "version": "3.7.7-final"
  },
  "orig_nbformat": 2,
  "kernelspec": {
   "name": "python37764bitvenvvenve6ed739dd3d845b2a8e33e9c24709756",
   "display_name": "Python 3.7.7 64-bit ('venv': venv)"
  }
 },
 "nbformat": 4,
 "nbformat_minor": 2,
 "cells": [
  {
   "cell_type": "code",
   "execution_count": 1,
   "metadata": {},
   "outputs": [],
   "source": [
    "import pyarrow as pa \n",
    "import pandas as pd\n",
    "import pyarrow.parquet as pq"
   ]
  },
  {
   "cell_type": "code",
   "execution_count": 11,
   "metadata": {},
   "outputs": [
    {
     "output_type": "execute_result",
     "data": {
      "text/plain": [
       ". Gallagher & Co.\"},{\"Code\":\"AIZ\",\"Company\":\"Assurant\"},{\"Code\":\"ATO\",\"Company\":\"Atmos Energy Corp\"},{\"Code\":\"T\",\"Company\":\"AT&T Inc.\"},{\"Code\":\"ADSK\",\"Company\":\"Autodesk Inc.\"},{\"Code\":\"ADP\",\"Company\":\"Automatic Data Processing\"},{\"Code\":\"AZO\",\"Company\":\"AutoZone Inc\"},{\"Code\":\"AVB\",\"Company\":\"AvalonBay Communities, Inc.\"},{\"Code\":\"AVY\",\"Company\":\"Avery Dennison Corp\"},{\"Code\":\"BKR\",\"Company\":\"Baker Hughes Co\"},{\"Code\":\"BLL\",\"Company\":\"Ball Corp\"},{\"Code\":\"BAC\",\"Company\":\"Bank of America Corp\"},{\"Code\":\"BK\",\"Company\":\"The Bank of New York Mellon Corp.\"},{\"Code\":\"BAX\",\"Company\":\"Baxter International Inc.\"},{\"Code\":\"BDX\",\"Company\":\"Becton Dickinson\"},{\"Code\":\"BRK.B\",\"Company\":\"Berkshire Hathaway\"},{\"Code\":\"BBY\",\"Company\":\"Best Buy Co. Inc.\"},{\"Code\":\"BIIB\",\"Company\":\"Biogen Inc.\"},{\"Code\":\"BLK\",\"Company\":\"BlackRock\"},{\"Code\":\"BA\",\"Company\":\"Boeing Company\"},{\"Code\":\"BKNG\",\"Company\":\"Booking Holdings Inc\"},{\"Code\":\"BWA\",\"Company\":\"BorgWarner\"},{\"Code\":\"BXP\",\"Company\":\"Boston Properties\"},{\"Code\":\"BSX\",\"Company\":\"Boston Scientific\"},{\"Code\":\"BMY\",\"Company\":\"Bristol-Myers Squibb\"},{\"Code\":\"AVGO\",\"Company\":\"Broadcom Inc.\"},{\"Code\":\"BR\",\"Company\":\"Broadridge Financial Solutions\"},{\"Code\":\"BF.B\",\"Company\":\"Brown-Forman Corp.\"},{\"Code\":\"CHRW\",\"Company\":\"C. H. Robinson Worldwide\"},{\"Code\":\"COG\",\"Company\":\"Cabot Oil & Gas\"},{\"Code\":\"CDNS\",\"Company\":\"Cadence Design Systems\"},{\"Code\":\"CPB\",\"Company\":\"Campbell Soup\"},{\"Code\":\"COF\",\"Company\":\"Capital One Financial\"},{\"Code\":\"CPRI\",\"Company\":\"Capri Holdings\"},{\"Code\":\"CAH\",\"Company\":\"Cardinal Health Inc.\"},{\"Code\":\"KMX\",\"Company\":\"Carmax Inc\"},{\"Code\":\"CCL\",\"Company\":\"Carnival Corp.\"},{\"Code\":\"CAT\",\"Company\":\"Caterpillar Inc.\"},{\"Code\":\"CBOE\",\"Company\":\"Cboe Global Markets\"},{\"Code\":\"CBRE\",\"Company\":\"CBRE Group\"},{\"Code\":\"CDW\",\"Company\":\"CDW\"},{\"Code\":\"CE\",\"Company\":\"Celanese\"},{\"Code\":\"CNC\",\"Company\":\"Centene Corporation\"},{\"Code\":\"CNP\",\"Company\":\"CenterPoint Energy\"},{\"Code\":\"CTL\",\"Company\":\"CenturyLink Inc\"},{\"Code\":\"CERN\",\"Company\":\"Cerner\"},{\"Code\":\"CF\",\"Company\":\"CF Industries Holdings Inc\"},{\"Code\":\"SCHW\",\"Company\":\"Charles Schwab Corporation\"},{\"Code\":\"CHTR\",\"Company\":\"Charter Communications\"},{\"Code\":\"CVX\",\"Company\":\"Chevron Corp.\"},{\"Code\":\"CMG\",\"Company\":\"Chipotle Mexican Grill\"},{\"Code\":\"CB\",\"Company\":\"Chubb Limited\"},{\"Code\":\"CHD\",\"Company\":\"Church & Dwight\"},{\"Code\":\"CI\",\"Company\":\"CIGNA Corp.\"},{\"Code\":\"XEC\",\"Company\":\"Cimarex Energy\"},{\"Code\":\"CINF\",\"Company\":\"Cincinnati Financial\"},{\"Code\":\"CTAS\",\"Company\":\"Cintas Corporation\"},{\"Code\":\"CSCO\",\"Company\":\"Cisco Systems\"},{\"Code\":\"C\",\"Company\":\"Citigroup Inc.\"},{\"Code\":\"CFG\",\"Company\":\"Citizens Financial Group\"},{\"Code\":\"CTXS\",\"Company\":\"Citrix Systems\"},{\"Code\":\"CLX\",\"Company\":\"The Clorox Company\"},{\"Code\":\"CME\",\"Company\":\"CME Group Inc.\"},{\"Code\":\"CMS\",\"Company\":\"CMS Energy\"},{\"Code\":\"KO\",\"Company\":\"Coca-Cola Company\"},{\"Code\":\"CTSH\",\"Company\":\"Cognizant Technology Solutions\"},{\"Code\":\"CL\",\"Company\":\"Colgate-Palmolive\"},{\"Code\":\"CMCSA\",\"Company\":\"Comcast Corp.\"},{\"Code\":\"CMA\",\"Company\":\"Comerica Inc.\"},{\"Code\":\"CAG\",\"Company\":\"Conagra Brands\"},{\"Code\":\"CXO\",\"Company\":\"Concho Resources\"},{\"Code\":\"COP\",\"Company\":\"ConocoPhillips\"},{\"Code\":\"ED\",\"Company\":\"Consolidated Edison\"},{\"Code\":\"STZ\",\"Company\":\"Constellation Brands\"},{\"Code\":\"COO\",\"Company\":\"The Cooper Companies\"},{\"Code\":\"CPRT\",\"Company\":\"Copart Inc\"},{\"Code\":\"GLW\",\"Company\":\"Corning Inc.\"},{\"Code\":\"CTVA\",\"Company\":\"Corteva\"},{\"Code\":\"COST\",\"Company\":\"Costco Wholesale Corp.\"},{\"Code\":\"COTY\",\"Company\":\"Coty, Inc\"},{\"Code\":\"CCI\",\"Company\":\"Crown Castle International Corp.\"},{\"Code\":\"CSX\",\"Company\":\"CSX Corp.\"},{\"Code\":\"CMI\",\"Company\":\"Cummins Inc.\"},{\"Code\":\"CVS\",\"Company\":\"CVS Health\"},{\"Code\":\"DHI\",\"Company\":\"D. R. Horton\"},{\"Code\":\"DHR\",\"Company\":\"Danaher Corp.\"},{\"Code\":\"DRI\",\"Company\":\"Darden Restaurants\"},{\"Code\":\"DVA\",\"Company\":\"DaVita Inc.\"},{\"Code\":\"DE\",\"Company\":\"Deere & Co.\"},{\"Code\":\"DAL\",\"Company\":\"Delta Air Lines Inc.\"},{\"Code\":\"XRAY\",\"Company\":\"Dentsply Sirona\"},{\"Code\":\"DVN\",\"Company\":\"Devon Energy\"},{\"Code\":\"FANG\",\"Company\":\"Diamondback Energy\"},{\"Code\":\"DLR\",\"Company\":\"Digital Realty Trust Inc\"},{\"Code\":\"DFS\",\"Company\":\"Discover Financial Services\"},{\"Code\":\"DISCA\",\"Company\":\"Discovery Inc. Class A\"},{\"Code\":\"DISCK\",\"Company\":\"Discovery Inc. Class C\"},{\"Code\":\"DISH\",\"Company\":\"Dish Network\"},{\"Code\":\"DG\",\"Company\":\"Dollar General\"},{\"Code\":\"DLTR\",\"Company\":\"Dollar Tree\"},{\"Code\":\"D\",\"Company\":\"Dominion Energy\"},{\"Code\":\"DOV\",\"Company\":\"Dover Corp.\"},{\"Code\":\"DOW\",\"Company\":\"Dow Inc.\"},{\"Code\":\"DTE\",\"Company\":\"DTE Energy Co.\"},{\"Code\":\"DUK\",\"Company\":\"Duke Energy\"},{\"Code\":\"DRE\",\"Company\":\"Duke Realty Corp\"},{\"Code\":\"DD\",\"Company\":\"DuPont de Nemours Inc\"},{\"Code\":\"DXC\",\"Company\":\"DXC Technology\"},{\"Code\":\"ETFC\",\"Company\":\"E*Trade\"},{\"Code\":\"EMN\",\"Company\":\"Eastman Chemical\"},{\"Code\":\"ETN\",\"Company\":\"Eaton Corporation\"},{\"Code\":\"EBAY\",\"Company\":\"eBay Inc.\"},{\"Code\":\"ECL\",\"Company\":\"Ecolab Inc.\"},{\"Code\":\"EIX\",\"Company\":\"Edison Int\\'l\"},{\"Code\":\"EW\",\"Company\":\"Edwards Lifesciences\"},{\"Code\":\"EA\",\"Company\":\"Electronic Arts\"},{\"Code\":\"EMR\",\"Company\":\"Emerson Electric Company\"},{\"Code\":\"ETR\",\"Company\":\"Entergy Corp.\"},{\"Code\":\"EOG\",\"Company\":\"EOG Resources\"},{\"Code\":\"EFX\",\"Company\":\"Equifax Inc.\"},{\"Code\":\"EQIX\",\"Company\":\"Equinix\"},{\"Code\":\"EQR\",\"Company\":\"Equity Residential\"},{\"Code\":\"ESS\",\"Company\":\"Essex Property Trust, Inc.\"},{\"Code\":\"EL\",\"Company\":\"Estee Lauder Cos.\"},{\"Code\":\"EVRG\",\"Company\":\"Evergy\"},{\"Code\":\"ES\",\"Company\":\"Eversource Energy\"},{\"Code\":\"RE\",\"Company\":\"Everest Re Group Ltd.\"},{\"Code\":\"EXC\",\"Company\":\"Exelon Corp.\"},{\"Code\":\"EXPE\",\"Company\":\"Expedia Group\"},{\"Code\":\"EXPD\",\"Company\":\"Expeditors\"},{\"Code\":\"EXR\",\"Company\":\"Extra Space Storage\"},{\"Code\":\"XOM\",\"Company\":\"Exxon Mobil Corp.\"},{\"Code\":\"FFIV\",\"Company\":\"F5 Networks\"},{\"Code\":\"FB\",\"Company\":\"Facebook, Inc.\"},{\"Code\":\"FAST\",\"Company\":\"Fastenal Co\"},{\"Code\":\"FRT\",\"Company\":\"Federal Realty Investment Trust\"},{\"Code\":\"FDX\",\"Company\":\"FedEx Corporation\"},{\"Code\":\"FIS\",\"Company\":\"Fidelity National Information Services\"},{\"Code\":\"FITB\",\"Company\":\"Fifth Third Bancorp\"},{\"Code\":\"FE\",\"Company\":\"FirstEnergy Corp\"},{\"Code\":\"FRC\",\"Company\":\"First Republic Bank\"},{\"Code\":\"FISV\",\"Company\":\"Fiserv Inc\"},{\"Code\":\"FLT\",\"Company\":\"FleetCor Technologies Inc\"},{\"Code\":\"FLIR\",\"Company\":\"FLIR Systems\"},{\"Code\":\"FLS\",\"Company\":\"Flowserve Corporation\"},{\"Code\":\"FMC\",\"Company\":\"FMC Corporation\"},{\"Code\":\"F\",\"Company\":\"Ford Motor\"},{\"Code\":\"FTNT\",\"Company\":\"Fortinet\"},{\"Code\":\"FTV\",\"Company\":\"Fortive Corp\"},{\"Code\":\"FBHS\",\"Company\":\"Fortune Brands Home & Security\"},{\"Code\":\"FOXA\",\"Company\":\"Fox Corporation Class A\"},{\"Code\":\"FOX\",\"Company\":\"Fox Corporation Class B\"},{\"Code\":\"BEN\",\"Company\":\"Franklin Resources\"},{\"Code\":\"FCX\",\"Company\":\"Freeport-McMoRan Inc.\"},{\"Code\":\"GPS\",\"Company\":\"Gap Inc.\"},{\"Code\":\"GRMN\",\"Company\":\"Garmin Ltd.\"},{\"Code\":\"IT\",\"Company\":\"Gartner Inc\"},{\"Code\":\"GD\",\"Company\":\"General Dynamics\"},{\"Code\":\"GE\",\"Company\":\"General Electric\"},{\"Code\":\"GIS\",\"Company\":\"General Mills\"},{\"Code\":\"GM\",\"Company\":\"General Motors\"},{\"Code\":\"GPC\",\"Company\":\"Genuine Parts\"},{\"Code\":\"GILD\",\"Company\":\"Gilead Sciences\"},{\"Code\":\"GL\",\"Company\":\"Globe Life Inc.\"},{\"Code\":\"GPN\",\"Company\":\"Global Payments Inc.\"},{\"Code\":\"GS\",\"Company\":\"Goldman Sachs Group\"},{\"Code\":\"GWW\",\"Company\":\"Grainger (W.W.) Inc.\"},{\"Code\":\"HRB\",\"Company\":\"H&R Block\"},{\"Code\":\"HAL\",\"Company\":\"Halliburton Co.\"},{\"Code\":\"HBI\",\"Company\":\"Hanesbrands Inc\"},{\"Code\":\"HOG\",\"Company\":\"Harley-Davidson\"},{\"Code\":\"HIG\",\"Company\":\"Hartford Financial Svc.Gp.\"},{\"Code\":\"HAS\",\"Company\":\"Hasbro Inc.\"},{\"Code\":\"HCA\",\"Company\":\"HCA Healthcare\"},{\"Code\":\"PEAK\",\"Company\":\"Healthpeak Properties\"},{\"Code\":\"HP\",\"Company\":\"Helmerich & Payne\"},{\"Code\":\"HSIC\",\"Company\":\"Henry Schein\"},{\"Code\":\"HSY\",\"Company\":\"The Hershey Company\"},{\"Code\":\"HES\",\"Company\":\"Hess Corporation\"},{\"Code\":\"HPE\",\"Company\":\"Hewlett Packard Enterprise\"},{\"Code\":\"HLT\",\"Company\":\"Hilton Worldwide Holdings Inc\"},{\"Code\":\"HFC\",\"Company\":\"HollyFrontier Corp\"},{\"Code\":\"HOLX\",\"Company\":\"Hologic\"},{\"Code\":\"HD\",\"Company\":\"Home Depot\"},{\"Code\":\"HON\",\"Company\":\"Honeywell Int\\'l Inc.\"},{\"Code\":\"HRL\",\"Company\":\"Hormel Foods Corp.\"},{\"Code\":\"HST\",\"Company\":\"Host Hotels & Resorts\"},{\"Code\":\"HPQ\",\"Company\":\"HP Inc.\"},{\"Code\":\"HUM\",\"Company\":\"Humana Inc.\"},{\"Code\":\"HBAN\",\"Company\":\"Huntington Bancshares\"},{\"Code\":\"HII\",\"Company\":\"Huntington Ingalls Industries\"},{\"Code\":\"IEX\",\"Company\":\"IDEX Corporation\"},{\"Code\":\"IDXX\",\"Company\":\"IDEXX Laboratories\"},{\"Code\":\"INFO\",\"Company\":\"IHS Markit Ltd.\"},{\"Code\":\"ITW\",\"Company\":\"Illinois Tool Works\"},{\"Code\":\"ILMN\",\"Company\":\"Illumina Inc\"},{\"Code\":\"IR\",\"Company\":\"Ingersoll-Rand PLC\"},{\"Code\":\"INTC\",\"Company\":\"Intel Corp.\"},{\"Code\":\"ICE\",\"Company\":\"Intercontinental Exchange\"},{\"Code\":\"IBM\",\"Company\":\"International Business Machines\"},{\"Code\":\"INCY\",\"Company\":\"Incyte\"},{\"Code\":\"IP\",\"Company\":\"International Paper\"},{\"Code\":\"IPG\",\"Company\":\"Interpublic Group\"},{\"Code\":\"IFF\",\"Company\":\"Intl Flavors & Fragrances\"},{\"Code\":\"INTU\",\"Company\":\"Intuit Inc.\"},{\"Code\":\"ISRG\",\"Company\":\"Intuitive Surgical Inc.\"},{\"Code\":\"IVZ\",\"Company\":\"Invesco Ltd.\"},{\"Code\":\"IPGP\",\"Company\":\"IPG Photonics Corp.\"},{\"Code\":\"IQV\",\"Company\":\"IQVIA Holdings Inc.\"},{\"Code\":\"IRM\",\"Company\":\"Iron Mountain Incorporated\"},{\"Code\":\"JKHY\",\"Company\":\"Jack Henry & Associates\"},{\"Code\":\"J\",\"Company\":\"Jacobs Engineering Group\"},{\"Code\":\"JBHT\",\"Company\":\"J. B. Hunt Transport Services\"},{\"Code\":\"SJM\",\"Company\":\"JM Smucker\"},{\"Code\":\"JNJ\",\"Company\":\"Johnson & Johnson\"},{\"Code\":\"JCI\",\"Company\":\"Johnson Controls International\"},{\"Code\":\"JPM\",\"Company\":\"JPMorgan Chase & Co.\"},{\"Code\":\"JNPR\",\"Company\":\"Juniper Networks\"},{\"Code\":\"KSU\",\"Company\":\"Kansas City Southern\"},{\"Code\":\"K\",\"Company\":\"Kellogg Co.\"},{\"Code\":\"KEY\",\"Company\":\"KeyCorp\"},{\"Code\":\"KEYS\",\"Company\":\"Keysight Technologies\"},{\"Code\":\"KMB\",\"Company\":\"Kimberly-Clark\"},{\"Code\":\"KIM\",\"Company\":\"Kimco Realty\"},{\"Code\":\"KMI\",\"Company\":\"Kinder Morgan\"},{\"Code\":\"KLAC\",\"Company\":\"KLA Corporation\"},{\"Code\":\"KSS\",\"Company\":\"Kohl\\'s Corp.\"},{\"Code\":\"KHC\",\"Company\":\"Kraft Heinz Co\"},{\"Code\":\"KR\",\"Company\":\"Kroger Co.\"},{\"Code\":\"LB\",\"Company\":\"L Brands Inc.\"},{\"Code\":\"LHX\",\"Company\":\"L3Harris Technologies\"},{\"Code\":\"LH\",\"Company\":\"Laboratory Corp. of America Holding\"},{\"Code\":\"LRCX\",\"Company\":\"Lam Research\"},{\"Code\":\"LW\",\"Company\":\"Lamb Weston Holdings Inc\"},{\"Code\":\"LVS\",\"Company\":\"Las Vegas Sands\"},{\"Code\":\"LEG\",\"Company\":\"Leggett & Platt\"},{\"Code\":\"LDOS\",\"Company\":\"Leidos Holdings\"},{\"Code\":\"LEN\",\"Company\":\"Lennar Corp.\"},{\"Code\":\"LLY\",\"Company\":\"Lilly (Eli) & Co.\"},{\"Code\":\"LNC\",\"Company\":\"Lincoln National\"},{\"Code\":\"LIN\",\"Company\":\"Linde plc\"},{\"Code\":\"LYV\",\"Company\":\"Live Nation Entertainment\"},{\"Code\":\"LKQ\",\"Company\":\"LKQ Corporation\"},{\"Code\":\"LMT\",\"Company\":\"Lockheed Martin Corp.\"},{\"Code\":\"L\",\"Company\":\"Loews Corp.\"},{\"Code\":\"LOW\",\"Company\":\"Lowe\\'s Cos.\"},{\"Code\":\"LYB\",\"Company\":\"LyondellBasell\"},{\"Code\":\"MTB\",\"Company\":\"M&T Bank Corp.\"},{\"Code\":\"M\",\"Company\":\"Macy\\'s Inc.\"},{\"Code\":\"MRO\",\"Company\":\"Marathon Oil Corp.\"},{\"Code\":\"MPC\",\"Company\":\"Marathon Petroleum\"},{\"Code\":\"MKTX\",\"Company\":\"MarketAxess\"},{\"Code\":\"MAR\",\"Company\":\"Marriott Int\\'l.\"},{\"Code\":\"MMC\",\"Company\":\"Marsh & McLennan\"},{\"Code\":\"MLM\",\"Company\":\"Martin Marietta Materials\"},{\"Code\":\"MAS\",\"Company\":\"Masco Corp.\"},{\"Code\":\"MA\",\"Company\":\"Mastercard Inc.\"},{\"Code\":\"MKC\",\"Company\":\"McCormick & Co.\"},{\"Code\":\"MXIM\",\"Company\":\"Maxim Integrated Products Inc\"},{\"Code\":\"MCD\",\"Company\":\"McDonald\\'s Corp.\"},{\"Code\":\"MCK\",\"Company\":\"McKesson Corp.\"},{\"Code\":\"MDT\",\"Company\":\"Medtronic plc\"},{\"Code\":\"MRK\",\"Company\":\"Merck & Co.\"},{\"Code\":\"MET\",\"Company\":\"MetLife Inc.\"},{\"Code\":\"MTD\",\"Company\":\"Mettler Toledo\"},{\"Code\":\"MGM\",\"Company\":\"MGM Resorts International\"},{\"Code\":\"MCHP\",\"Company\":\"Microchip Technology\"},{\"Code\":\"MU\",\"Company\":\"Micron Technology\"},{\"Code\":\"MSFT\",\"Company\":\"Microsoft Corp.\"},{\"Code\":\"MAA\",\"Company\":\"Mid-America Apartments\"},{\"Code\":\"MHK\",\"Company\":\"Mohawk Industries\"},{\"Code\":\"TAP\",\"Company\":\"Molson Coors Brewing Company\"},{\"Code\":\"MDLZ\",\"Company\":\"Mondelez International\"},{\"Code\":\"MNST\",\"Company\":\"Monster Beverage\"},{\"Code\":\"MCO\",\"Company\":\"Moody\\'s Corp\"},{\"Code\":\"MS\",\"Company\":\"Morgan Stanley\"},{\"Code\":\"MOS\",\"Company\":\"The Mosaic Company\"},{\"Code\":\"MSI\",\"Company\":\"Motorola Solutions Inc.\"},{\"Code\":\"MSCI\",\"Company\":\"MSCI Inc\"},{\"Code\":\"MYL\",\"Company\":\"Mylan N.V.\"},{\"Code\":\"NDAQ\",\"Company\":\"Nasdaq, Inc.\"},{\"Code\":\"NOV\",\"Company\":\"National Oilwell Varco Inc.\"},{\"Code\":\"NTAP\",\"Company\":\"NetApp\"},{\"Code\":\"NFLX\",\"Company\":\"Netflix Inc.\"},{\"Code\":\"NWL\",\"Company\":\"Newell Brands\"},{\"Code\":\"NEM\",\"Company\":\"Newmont Corporation\"},{\"Code\":\"NWSA\",\"Company\":\"News Corp. Class A\"},{\"Code\":\"NWS\",\"Company\":\"News Corp. Class B\"},{\"Code\":\"NEE\",\"Company\":\"NextEra Energy\"},{\"Code\":\"NLSN\",\"Company\":\"Nielsen Holdings\"},{\"Code\":\"NKE\",\"Company\":\"Nike\"},{\"Code\":\"NI\",\"Company\":\"NiSource Inc.\"},{\"Code\":\"NBL\",\"Company\":\"Noble Energy Inc\"},{\"Code\":\"JWN\",\"Company\":\"Nordstrom\"},{\"Code\":\"NSC\",\"Company\":\"Norfolk Southern Corp.\"},{\"Code\":\"NTRS\",\"Company\":\"Northern Trust Corp.\"},{\"Code\":\"NOC\",\"Company\":\"Northrop Grumman\"},{\"Code\":\"NLOK\",\"Company\":\"NortonLifeLock\"},{\"Code\":\"NCLH\",\"Company\":\"Norwegian Cruise Line Holdings\"},{\"Code\":\"NRG\",\"Company\":\"NRG Energy\"},{\"Code\":\"NUE\",\"Company\":\"Nucor Corp.\"},{\"Code\":\"NVDA\",\"Company\":\"Nvidia Corporation\"},{\"Code\":\"NVR\",\"Company\":\"NVR Inc\"},{\"Code\":\"ORLY\",\"Company\":\"O\\'Reilly Automotive\"},{\"Code\":\"OXY\",\"Company\":\"Occidental Petroleum\"},{\"Code\":\"ODFL\",\"Company\":\"Old Dominion Freight Line\"},{\"Code\":\"OMC\",\"Company\":\"Omnicom Group\"},{\"Code\":\"OKE\",\"Company\":\"ONEOK\"},{\"Code\":\"ORCL\",\"Company\":\"Oracle Corp.\"},{\"Code\":\"PCAR\",\"Company\":\"PACCAR Inc.\"},{\"Code\":\"PKG\",\"Company\":\"Packaging Corporation of America\"},{\"Code\":\"PH\",\"Company\":\"Parker-Hannifin\"},{\"Code\":\"PAYX\",\"Company\":\"Paychex Inc.\"},{\"Code\":\"PAYC\",\"Company\":\"Paycom\"},{\"Code\":\"PYPL\",\"Company\":\"PayPal\"},{\"Code\":\"PNR\",\"Company\":\"Pentair plc\"},{\"Code\":\"PBCT\",\"Company\":\"People\\'s United Financial\"},{\"Code\":\"PEP\",\"Company\":\"PepsiCo Inc.\"},{\"Code\":\"PKI\",\"Company\":\"PerkinElmer\"},{\"Code\":\"PRGO\",\"Company\":\"Perrigo\"},{\"Code\":\"PFE\",\"Company\":\"Pfizer Inc.\"},{\"Code\":\"PM\",\"Company\":\"Philip Morris International\"},{\"Code\":\"PSX\",\"Company\":\"Phillips 66\"},{\"Code\":\"PNW\",\"Company\":\"Pinnacle West Capital\"},{\"Code\":\"PXD\",\"Company\":\"Pioneer Natural Resources\"},{\"Code\":\"PNC\",\"Company\":\"PNC Financial Services\"},{\"Code\":\"PPG\",\"Company\":\"PPG Industries\"},{\"Code\":\"PPL\",\"Company\":\"PPL Corp.\"},{\"Code\":\"PFG\",\"Company\":\"Principal Financial Group\"},{\"Code\":\"PG\",\"Company\":\"Procter & Gamble\"},{\"Code\":\"PGR\",\"Company\":\"Progressive Corp.\"},{\"Code\":\"PLD\",\"Company\":\"Prologis\"},{\"Code\":\"PRU\",\"Company\":\"Prudential Financial\"},{\"Code\":\"PEG\",\"Company\":\"Public Serv. Enterprise Inc.\"},{\"Code\":\"PSA\",\"Company\":\"Public Storage\"},{\"Code\":\"PHM\",\"Company\":\"PulteGroup\"},{\"Code\":\"PVH\",\"Company\":\"PVH Corp.\"},{\"Code\":\"QRVO\",\"Company\":\"Qorvo\"},{\"Code\":\"PWR\",\"Company\":\"Quanta Services Inc.\"},{\"Code\":\"QCOM\",\"Company\":\"QUALCOMM Inc.\"},{\"Code\":\"DGX\",\"Company\":\"Quest Diagnostics\"},{\"Code\":\"RL\",\"Company\":\"Ralph Lauren Corporation\"},{\"Code\":\"RJF\",\"Company\":\"Raymond James Financial Inc.\"},{\"Code\":\"RTN\",\"Company\":\"Raytheon Co.\"},{\"Code\":\"O\",\"Company\":\"Realty Income Corporation\"},{\"Code\":\"REG\",\"Company\":\"Regency Centers Corporation\"},{\"Code\":\"REGN\",\"Company\":\"Regeneron Pharmaceuticals\"},{\"Code\":\"RF\",\"Company\":\"Regions Financial Corp.\"},{\"Code\":\"RSG\",\"Company\":\"Republic Services Inc\"},{\"Code\":\"RMD\",\"Company\":\"ResMed\"},{\"Code\":\"RHI\",\"Company\":\"Robert Half International\"},{\"Code\":\"ROK\",\"Company\":\"Rockwell Automation Inc.\"},{\"Code\":\"ROL\",\"Company\":\"Rollins Inc.\"},{\"Code\":\"ROP\",\"Company\":\"Roper Technologies\"},{\"Code\":\"ROST\",\"Company\":\"Ross Stores\"},{\"Code\":\"RCL\",\"Company\":\"Royal Caribbean Cruises Ltd\"},{\"Code\":\"SPGI\",\"Company\":\"S&P Global, Inc.\"},{\"Code\":\"CRM\",\"Company\":\"Salesforce.com\"},{\"Code\":\"SBAC\",\"Company\":\"SBA Communications\"},{\"Code\":\"SLB\",\"Company\":\"Schlumberger Ltd.\"},{\"Code\":\"STX\",\"Company\":\"Seagate Technology\"},{\"Code\":\"SEE\",\"Company\":\"Sealed Air\"},{\"Code\":\"SRE\",\"Company\":\"Sempra Energy\"},{\"Code\":\"NOW\",\"Company\":\"ServiceNow\"},{\"Code\":\"SHW\",\"Company\":\"Sherwin-Williams\"},{\"Code\":\"SPG\",\"Company\":\"Simon Property Group Inc\"},{\"Code\":\"SWKS\",\"Company\":\"Skyworks Solutions\"},{\"Code\":\"SLG\",\"Company\":\"SL Green Realty\"},{\"Code\":\"SNA\",\"Company\":\"Snap-on\"},{\"Code\":\"SO\",\"Company\":\"Southern Co.\"},{\"Code\":\"LUV\",\"Company\":\"Southwest Airlines\"},{\"Code\":\"SWK\",\"Company\":\"Stanley Black & Decker\"},{\"Code\":\"SBUX\",\"Company\":\"Starbucks Corp.\"},{\"Code\":\"STT\",\"Company\":\"State Street Corp.\"},{\"Code\":\"STE\",\"Company\":\"STERIS plc\"},{\"Code\":\"SYK\",\"Company\":\"Stryker Corp.\"},{\"Code\":\"SIVB\",\"Company\":\"SVB Financial\"},{\"Code\":\"SYF\",\"Company\":\"Synchrony Financial\"},{\"Code\":\"SNPS\",\"Company\":\"Synopsys Inc.\"},{\"Code\":\"SYY\",\"Company\":\"Sysco Corp.\"},{\"Code\":\"TMUS\",\"Company\":\"T-Mobile US\"},{\"Code\":\"TROW\",\"Company\":\"T. Rowe Price Group\"},{\"Code\":\"TTWO\",\"Company\":\"Take-Two Interactive\"},{\"Code\":\"TPR\",\"Company\":\"Tapestry, Inc.\"},{\"Code\":\"TGT\",\"Company\":\"Target Corp.\"},{\"Code\":\"TEL\",\"Company\":\"TE Connectivity Ltd.\"},{\"Code\":\"FTI\",\"Company\":\"TechnipFMC\"},{\"Code\":\"TFX\",\"Company\":\"Teleflex\"},{\"Code\":\"TXN\",\"Company\":\"Texas Instruments\"},{\"Code\":\"TXT\",\"Company\":\"Textron Inc.\"},{\"Code\":\"TMO\",\"Company\":\"Thermo Fisher Scientific\"},{\"Code\":\"TIF\",\"Company\":\"Tiffany & Co.\"},{\"Code\":\"TJX\",\"Company\":\"TJX Companies Inc.\"},{\"Code\":\"TSCO\",\"Company\":\"Tractor Supply Company\"},{\"Code\":\"TDG\",\"Company\":\"TransDigm Group\"},{\"Code\":\"TRV\",\"Company\":\"The Travelers Companies Inc.\"},{\"Code\":\"TFC\",\"Company\":\"Truist Financial\"},{\"Code\":\"TWTR\",\"Company\":\"Twitter, Inc.\"},{\"Code\":\"TSN\",\"Company\":\"Tyson Foods\"},{\"Code\":\"UDR\",\"Company\":\"UDR, Inc.\"},{\"Code\":\"ULTA\",\"Company\":\"Ulta Beauty\"},{\"Code\":\"USB\",\"Company\":\"U.S. Bancorp\"},{\"Code\":\"UAA\",\"Company\":\"Under Armour Class A\"},{\"Code\":\"UA\",\"Company\":\"Under Armour Class C\"},{\"Code\":\"UNP\",\"Company\":\"Union Pacific Corp\"},{\"Code\":\"UAL\",\"Company\":\"United Airlines Holdings\"},{\"Code\":\"UNH\",\"Company\":\"United Health Group Inc.\"},{\"Code\":\"UPS\",\"Company\":\"United Parcel Service\"},{\"Code\":\"URI\",\"Company\":\"United Rentals, Inc.\"},{\"Code\":\"UTX\",\"Company\":\"United Technologies\"},{\"Code\":\"UHS\",\"Company\":\"Universal Health Services, Inc.\"},{\"Code\":\"UNM\",\"Company\":\"Unum Group\"},{\"Code\":\"VFC\",\"Company\":\"V.F. Corp.\"},{\"Code\":\"VLO\",\"Company\":\"Valero Energy\"},{\"Code\":\"VAR\",\"Company\":\"Varian Medical Systems\"},{\"Code\":\"VTR\",\"Company\":\"Ventas Inc\"},{\"Code\":\"VRSN\",\"Company\":\"Verisign Inc.\"},{\"Code\":\"VRSK\",\"Company\":\"Verisk Analytics\"},{\"Code\":\"VZ\",\"Company\":\"Verizon Communications\"},{\"Code\":\"VRTX\",\"Company\":\"Vertex Pharmaceuticals\\\\u00a0\"},{\"Code\":\"VIAC\",\"Company\":\"ViacomCBS\"},{\"Code\":\"V\",\"Company\":\"Visa Inc.\"},{\"Code\":\"VNO\",\"Company\":\"Vornado Realty Trust\"},{\"Code\":\"VMC\",\"Company\":\"Vulcan Materials\"},{\"Code\":\"WRB\",\"Company\":\"W. R. Berkley Corporation\"},{\"Code\":\"WAB\",\"Company\":\"Wabtec Corporation\"},{\"Code\":\"WMT\",\"Company\":\"Walmart\"},{\"Code\":\"WBA\",\"Company\":\"Walgreens Boots Alliance\"},{\"Code\":\"DIS\",\"Company\":\"The Walt Disney Company\"},{\"Code\":\"WM\",\"Company\":\"Waste Management Inc.\"},{\"Code\":\"WAT\",\"Company\":\"Waters Corporation\"},{\"Code\":\"WEC\",\"Company\":\"Wec Energy Group Inc\"},{\"Code\":\"WFC\",\"Company\":\"Wells Fargo\"},{\"Code\":\"WELL\",\"Company\":\"Welltower Inc.\"},{\"Code\":\"WDC\",\"Company\":\"Western Digital\"},{\"Code\":\"WU\",\"Company\":\"Western Union Co\"},{\"Code\":\"WRK\",\"Company\":\"WestRock\"},{\"Code\":\"WY\",\"Company\":\"Weyerhaeuser\"},{\"Code\":\"WHR\",\"Company\":\"Whirlpool Corp.\"},{\"Code\":\"WMB\",\"Company\":\"Williams Cos.\"},{\"Code\":\"WLTW\",\"Company\":\"Willis Towers Watson\"},{\"Code\":\"WYNN\",\"Company\":\"Wynn Resorts Ltd\"},{\"Code\":\"XEL\",\"Company\":\"Xcel Energy Inc\"},{\"Code\":\"XRX\",\"Company\":\"Xerox\"},{\"Code\":\"XLNX\",\"Company\":\"Xilinx\"},{\"Code\":\"XYL\",\"Company\":\"Xylem Inc.\"},{\"Code\":\"YUM\",\"Company\":\"Yum! Brands Inc\"},{\"Code\":\"ZBRA\",\"Company\":\"Zebra Technologies\"},{\"Code\":\"ZBH\",\"Company\":\"Zimmer Biomet Holdings\"},{\"Code\":\"ZION\",\"Company\":\"Zions Bancorp\"},{\"Code\":\"ZTS\",\"Company\":\"Zoetis\"}]'"
      ]
     },
     "metadata": {},
     "execution_count": 11
    }
   ],
   "source": [
    "pq.read_table('fundCodes.parquet').to_pandas().reset_index().to_json(orient = 'records')"
   ]
  },
  {
   "cell_type": "code",
   "execution_count": 5,
   "metadata": {},
   "outputs": [],
   "source": [
    "dailyPrice = pd.read_csv('output.csv', index_col = 0)"
   ]
  },
  {
   "cell_type": "code",
   "execution_count": 6,
   "metadata": {},
   "outputs": [
    {
     "output_type": "execute_result",
     "data": {
      "text/plain": [
       "         date     MMM    ABT   ABBV    ABMD     ACN   ATVI    ADBE    AMD  \\\n",
       "0  2020-05-26  152.08  89.48  89.31  209.08  196.40  70.00  376.63  53.19   \n",
       "1  2020-05-22  146.44  91.47  90.71  206.16  193.71  73.08  385.26  55.17   \n",
       "2  2020-05-21  145.81  90.39  92.10  196.32  193.50  72.47  382.17  54.65   \n",
       "3  2020-05-20  149.68  90.09  93.02  196.36  195.18  73.78  383.63  56.39   \n",
       "4  2020-05-19  148.38  88.22  91.19  190.79  190.09  73.03  372.20  55.47   \n",
       "\n",
       "      AAP  ...    HFC   HOLX      HD     HON    HRL    HST    HPQ     HUM  \\\n",
       "0  135.58  ...  32.30  51.10  242.48  144.94  45.73  12.17  17.06  397.09   \n",
       "1  133.48  ...  30.46  52.33  241.88  139.18  46.93  11.23  17.00  394.43   \n",
       "2  134.79  ...  30.99  52.56  240.88  137.69  46.01  11.43  17.18  395.27   \n",
       "3  135.72  ...  31.75  53.98  238.19  136.03  47.99  11.54  17.30  391.19   \n",
       "4  135.82  ...  29.46  52.89  238.10  131.95  47.39  11.55  16.73  394.47   \n",
       "\n",
       "    HBAN     HII  \n",
       "0  8.990  193.42  \n",
       "1  8.095  182.77  \n",
       "2  8.170  181.50  \n",
       "3  8.210  175.11  \n",
       "4  7.880  173.50  \n",
       "\n",
       "[5 rows x 245 columns]"
      ],
      "text/html": "<div>\n<style scoped>\n    .dataframe tbody tr th:only-of-type {\n        vertical-align: middle;\n    }\n\n    .dataframe tbody tr th {\n        vertical-align: top;\n    }\n\n    .dataframe thead th {\n        text-align: right;\n    }\n</style>\n<table border=\"1\" class=\"dataframe\">\n  <thead>\n    <tr style=\"text-align: right;\">\n      <th></th>\n      <th>date</th>\n      <th>MMM</th>\n      <th>ABT</th>\n      <th>ABBV</th>\n      <th>ABMD</th>\n      <th>ACN</th>\n      <th>ATVI</th>\n      <th>ADBE</th>\n      <th>AMD</th>\n      <th>AAP</th>\n      <th>...</th>\n      <th>HFC</th>\n      <th>HOLX</th>\n      <th>HD</th>\n      <th>HON</th>\n      <th>HRL</th>\n      <th>HST</th>\n      <th>HPQ</th>\n      <th>HUM</th>\n      <th>HBAN</th>\n      <th>HII</th>\n    </tr>\n  </thead>\n  <tbody>\n    <tr>\n      <th>0</th>\n      <td>2020-05-26</td>\n      <td>152.08</td>\n      <td>89.48</td>\n      <td>89.31</td>\n      <td>209.08</td>\n      <td>196.40</td>\n      <td>70.00</td>\n      <td>376.63</td>\n      <td>53.19</td>\n      <td>135.58</td>\n      <td>...</td>\n      <td>32.30</td>\n      <td>51.10</td>\n      <td>242.48</td>\n      <td>144.94</td>\n      <td>45.73</td>\n      <td>12.17</td>\n      <td>17.06</td>\n      <td>397.09</td>\n      <td>8.990</td>\n      <td>193.42</td>\n    </tr>\n    <tr>\n      <th>1</th>\n      <td>2020-05-22</td>\n      <td>146.44</td>\n      <td>91.47</td>\n      <td>90.71</td>\n      <td>206.16</td>\n      <td>193.71</td>\n      <td>73.08</td>\n      <td>385.26</td>\n      <td>55.17</td>\n      <td>133.48</td>\n      <td>...</td>\n      <td>30.46</td>\n      <td>52.33</td>\n      <td>241.88</td>\n      <td>139.18</td>\n      <td>46.93</td>\n      <td>11.23</td>\n      <td>17.00</td>\n      <td>394.43</td>\n      <td>8.095</td>\n      <td>182.77</td>\n    </tr>\n    <tr>\n      <th>2</th>\n      <td>2020-05-21</td>\n      <td>145.81</td>\n      <td>90.39</td>\n      <td>92.10</td>\n      <td>196.32</td>\n      <td>193.50</td>\n      <td>72.47</td>\n      <td>382.17</td>\n      <td>54.65</td>\n      <td>134.79</td>\n      <td>...</td>\n      <td>30.99</td>\n      <td>52.56</td>\n      <td>240.88</td>\n      <td>137.69</td>\n      <td>46.01</td>\n      <td>11.43</td>\n      <td>17.18</td>\n      <td>395.27</td>\n      <td>8.170</td>\n      <td>181.50</td>\n    </tr>\n    <tr>\n      <th>3</th>\n      <td>2020-05-20</td>\n      <td>149.68</td>\n      <td>90.09</td>\n      <td>93.02</td>\n      <td>196.36</td>\n      <td>195.18</td>\n      <td>73.78</td>\n      <td>383.63</td>\n      <td>56.39</td>\n      <td>135.72</td>\n      <td>...</td>\n      <td>31.75</td>\n      <td>53.98</td>\n      <td>238.19</td>\n      <td>136.03</td>\n      <td>47.99</td>\n      <td>11.54</td>\n      <td>17.30</td>\n      <td>391.19</td>\n      <td>8.210</td>\n      <td>175.11</td>\n    </tr>\n    <tr>\n      <th>4</th>\n      <td>2020-05-19</td>\n      <td>148.38</td>\n      <td>88.22</td>\n      <td>91.19</td>\n      <td>190.79</td>\n      <td>190.09</td>\n      <td>73.03</td>\n      <td>372.20</td>\n      <td>55.47</td>\n      <td>135.82</td>\n      <td>...</td>\n      <td>29.46</td>\n      <td>52.89</td>\n      <td>238.10</td>\n      <td>131.95</td>\n      <td>47.39</td>\n      <td>11.55</td>\n      <td>16.73</td>\n      <td>394.47</td>\n      <td>7.880</td>\n      <td>173.50</td>\n    </tr>\n  </tbody>\n</table>\n<p>5 rows × 245 columns</p>\n</div>"
     },
     "metadata": {},
     "execution_count": 6
    }
   ],
   "source": [
    "dailyPrice.head()"
   ]
  },
  {
   "cell_type": "code",
   "execution_count": 9,
   "metadata": {},
   "outputs": [],
   "source": [
    "dailyPriceTable = pa.Table.from_pandas(dailyPrice)"
   ]
  },
  {
   "cell_type": "code",
   "execution_count": 13,
   "metadata": {},
   "outputs": [],
   "source": [
    "pq.write_table(dailyPriceTable, 'dailyPrice.parquet')"
   ]
  },
  {
   "cell_type": "code",
   "execution_count": 14,
   "metadata": {},
   "outputs": [],
   "source": [
    "table2 = pq.read_table('dailyPrice.parquet')"
   ]
  },
  {
   "cell_type": "code",
   "execution_count": 3,
   "metadata": {},
   "outputs": [],
   "source": [
    "fundCodes = pd.read_csv('spxCodes.csv', index_col = 0)"
   ]
  },
  {
   "cell_type": "code",
   "execution_count": 4,
   "metadata": {},
   "outputs": [],
   "source": [
    "fundCodesTable = pa.Table.from_pandas(fundCodes)"
   ]
  },
  {
   "cell_type": "code",
   "execution_count": 5,
   "metadata": {},
   "outputs": [],
   "source": [
    "pq.write_table(fundCodesTable, 'fundCodes.parquet')"
   ]
  },
  {
   "cell_type": "code",
   "execution_count": null,
   "metadata": {},
   "outputs": [],
   "source": []
  }
 ]
}